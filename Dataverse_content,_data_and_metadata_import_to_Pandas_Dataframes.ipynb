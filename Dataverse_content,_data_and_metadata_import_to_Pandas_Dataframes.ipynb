{
  "nbformat": 4,
  "nbformat_minor": 0,
  "metadata": {
    "colab": {
      "name": "Dataverse content, data and metadata import to Pandas Dataframes",
      "provenance": [],
      "collapsed_sections": [],
      "include_colab_link": true
    },
    "kernelspec": {
      "name": "python3",
      "display_name": "Python 3"
    }
  },
  "cells": [
    {
      "cell_type": "markdown",
      "metadata": {
        "id": "view-in-github",
        "colab_type": "text"
      },
      "source": [
        "<a href=\"https://colab.research.google.com/github/antonpolishko/A_colab_collection/blob/master/Dataverse_content%2C_data_and_metadata_import_to_Pandas_Dataframes.ipynb\" target=\"_parent\"><img src=\"https://colab.research.google.com/assets/colab-badge.svg\" alt=\"Open In Colab\"/></a>"
      ]
    },
    {
      "cell_type": "code",
      "metadata": {
        "id": "8iz7WtxVVQAo",
        "colab_type": "code",
        "colab": {
          "base_uri": "https://localhost:8080/",
          "height": 782
        },
        "outputId": "67e75b2b-e0fe-4a6d-edae-3049b3bc7433"
      },
      "source": [
        "!pip install git+https://github.com/AUSSDA/pyDataverse.git@develop\n",
        "!pip install pygithub\n",
        "from github import Github\n",
        "from pyDataverse.api import Api, NativeApi\n",
        "import pandas as pd"
      ],
      "execution_count": null,
      "outputs": [
        {
          "output_type": "stream",
          "text": [
            "Collecting git+https://github.com/AUSSDA/pyDataverse.git@develop\n",
            "  Cloning https://github.com/AUSSDA/pyDataverse.git (to revision develop) to /tmp/pip-req-build-huuhzdef\n",
            "  Running command git clone -q https://github.com/AUSSDA/pyDataverse.git /tmp/pip-req-build-huuhzdef\n",
            "  Running command git checkout -b develop --track origin/develop\n",
            "  Switched to a new branch 'develop'\n",
            "  Branch 'develop' set up to track remote branch 'develop' from 'origin'.\n",
            "Requirement already satisfied: requests>=2.12.0 in /usr/local/lib/python3.6/dist-packages (from pyDataverse==0.2.1) (2.23.0)\n",
            "Collecting jsonschema>=3.2.0\n",
            "\u001b[?25l  Downloading https://files.pythonhosted.org/packages/c5/8f/51e89ce52a085483359217bc72cdbf6e75ee595d5b1d4b5ade40c7e018b8/jsonschema-3.2.0-py2.py3-none-any.whl (56kB)\n",
            "\u001b[K     |████████████████████████████████| 61kB 1.7MB/s \n",
            "\u001b[?25hRequirement already satisfied: chardet<4,>=3.0.2 in /usr/local/lib/python3.6/dist-packages (from requests>=2.12.0->pyDataverse==0.2.1) (3.0.4)\n",
            "Requirement already satisfied: urllib3!=1.25.0,!=1.25.1,<1.26,>=1.21.1 in /usr/local/lib/python3.6/dist-packages (from requests>=2.12.0->pyDataverse==0.2.1) (1.24.3)\n",
            "Requirement already satisfied: certifi>=2017.4.17 in /usr/local/lib/python3.6/dist-packages (from requests>=2.12.0->pyDataverse==0.2.1) (2020.4.5.2)\n",
            "Requirement already satisfied: idna<3,>=2.5 in /usr/local/lib/python3.6/dist-packages (from requests>=2.12.0->pyDataverse==0.2.1) (2.9)\n",
            "Requirement already satisfied: importlib-metadata; python_version < \"3.8\" in /usr/local/lib/python3.6/dist-packages (from jsonschema>=3.2.0->pyDataverse==0.2.1) (1.6.1)\n",
            "Requirement already satisfied: attrs>=17.4.0 in /usr/local/lib/python3.6/dist-packages (from jsonschema>=3.2.0->pyDataverse==0.2.1) (19.3.0)\n",
            "Requirement already satisfied: pyrsistent>=0.14.0 in /usr/local/lib/python3.6/dist-packages (from jsonschema>=3.2.0->pyDataverse==0.2.1) (0.16.0)\n",
            "Requirement already satisfied: setuptools in /usr/local/lib/python3.6/dist-packages (from jsonschema>=3.2.0->pyDataverse==0.2.1) (47.3.1)\n",
            "Requirement already satisfied: six>=1.11.0 in /usr/local/lib/python3.6/dist-packages (from jsonschema>=3.2.0->pyDataverse==0.2.1) (1.12.0)\n",
            "Requirement already satisfied: zipp>=0.5 in /usr/local/lib/python3.6/dist-packages (from importlib-metadata; python_version < \"3.8\"->jsonschema>=3.2.0->pyDataverse==0.2.1) (3.1.0)\n",
            "Building wheels for collected packages: pyDataverse\n",
            "  Building wheel for pyDataverse (setup.py) ... \u001b[?25l\u001b[?25hdone\n",
            "  Created wheel for pyDataverse: filename=pyDataverse-0.2.1-py2.py3-none-any.whl size=35278 sha256=819207aac0473b7c4985da99440d153e06c1341d5271e18471edc463dbc83514\n",
            "  Stored in directory: /tmp/pip-ephem-wheel-cache-de1_446t/wheels/8b/df/29/d6d3c32501ee8c3804e7c51f184c0a6a4bc62aef390fc64b7e\n",
            "Successfully built pyDataverse\n",
            "Installing collected packages: jsonschema, pyDataverse\n",
            "  Found existing installation: jsonschema 2.6.0\n",
            "    Uninstalling jsonschema-2.6.0:\n",
            "      Successfully uninstalled jsonschema-2.6.0\n",
            "Successfully installed jsonschema-3.2.0 pyDataverse-0.2.1\n",
            "Collecting pygithub\n",
            "\u001b[?25l  Downloading https://files.pythonhosted.org/packages/e9/47/193780145caa381e9900991c03764506bdd472a64b0a60df1562dd9ac308/PyGithub-1.51-py3-none-any.whl (260kB)\n",
            "\u001b[K     |████████████████████████████████| 266kB 2.5MB/s \n",
            "\u001b[?25hCollecting pyjwt\n",
            "  Downloading https://files.pythonhosted.org/packages/87/8b/6a9f14b5f781697e51259d81657e6048fd31a113229cf346880bb7545565/PyJWT-1.7.1-py2.py3-none-any.whl\n",
            "Collecting deprecated\n",
            "  Downloading https://files.pythonhosted.org/packages/76/a1/05d7f62f956d77b23a640efc650f80ce24483aa2f85a09c03fb64f49e879/Deprecated-1.2.10-py2.py3-none-any.whl\n",
            "Requirement already satisfied: requests>=2.14.0 in /usr/local/lib/python3.6/dist-packages (from pygithub) (2.23.0)\n",
            "Requirement already satisfied: wrapt<2,>=1.10 in /usr/local/lib/python3.6/dist-packages (from deprecated->pygithub) (1.12.1)\n",
            "Requirement already satisfied: urllib3!=1.25.0,!=1.25.1,<1.26,>=1.21.1 in /usr/local/lib/python3.6/dist-packages (from requests>=2.14.0->pygithub) (1.24.3)\n",
            "Requirement already satisfied: chardet<4,>=3.0.2 in /usr/local/lib/python3.6/dist-packages (from requests>=2.14.0->pygithub) (3.0.4)\n",
            "Requirement already satisfied: idna<3,>=2.5 in /usr/local/lib/python3.6/dist-packages (from requests>=2.14.0->pygithub) (2.9)\n",
            "Requirement already satisfied: certifi>=2017.4.17 in /usr/local/lib/python3.6/dist-packages (from requests>=2.14.0->pygithub) (2020.4.5.2)\n",
            "Installing collected packages: pyjwt, deprecated, pygithub\n",
            "Successfully installed deprecated-1.2.10 pygithub-1.51 pyjwt-1.7.1\n"
          ],
          "name": "stdout"
        }
      ]
    },
    {
      "cell_type": "code",
      "metadata": {
        "id": "o1565de5Y2T5",
        "colab_type": "code",
        "colab": {}
      },
      "source": [
        "DV_ALIAS = 'demo' # name of your dataverse\n",
        "BASE_URL = 'http://dataverse.labs.coronawhy.org' # URL where the dataverses are hosted *without trailing slash*\n",
        "API_TOKEN= '' # API token that can be created in your user menu\n",
        "PARSABLE_EXTENSIONS_PY = ['py', 'ipynb'] # Leave the array empty if you want to parse all files\n",
        "PARSABLE_EXTENSIONS = ['csv', 'json', 'gz', 'fasta', 'xlsx', 'jsonld', 'owl', 'ttl', 'rds', 'txt', 'cvs']\n",
        "gitroot = 'https://github.com'"
      ],
      "execution_count": null,
      "outputs": []
    },
    {
      "cell_type": "code",
      "metadata": {
        "id": "o82VIt8CZERI",
        "colab_type": "code",
        "colab": {}
      },
      "source": [
        "api = NativeApi(BASE_URL, API_TOKEN)\n",
        "PID = 'doi:10.5072/FK2/HUTBCD' # Choose any DOI published on this Dataverse \n",
        "files = api.get_datafiles(PID, ':latest').json()"
      ],
      "execution_count": null,
      "outputs": []
    },
    {
      "cell_type": "markdown",
      "metadata": {
        "id": "ZuRtdiyadpZr",
        "colab_type": "text"
      },
      "source": [
        "Check the metadata of the first file in this dataset"
      ]
    },
    {
      "cell_type": "code",
      "metadata": {
        "id": "t0z-cXKWdtUX",
        "colab_type": "code",
        "colab": {
          "base_uri": "https://localhost:8080/",
          "height": 289
        },
        "outputId": "451a6130-a841-4a46-dc68-6bb99e71637e"
      },
      "source": [
        "files['data'][0]"
      ],
      "execution_count": null,
      "outputs": [
        {
          "output_type": "execute_result",
          "data": {
            "text/plain": [
              "{'dataFile': {'checksum': {'type': 'MD5',\n",
              "   'value': 'fea7abf242a349a06f289da9ddf0dc01'},\n",
              "  'contentType': 'text/csv',\n",
              "  'creationDate': '2020-06-08',\n",
              "  'filename': 'AOI.csv',\n",
              "  'filesize': 546,\n",
              "  'id': 84,\n",
              "  'md5': 'fea7abf242a349a06f289da9ddf0dc01',\n",
              "  'persistentId': '',\n",
              "  'pidURL': '',\n",
              "  'rootDataFileId': -1,\n",
              "  'storageIdentifier': 'file://1729346df12-019746c27316'},\n",
              " 'datasetVersionId': 19,\n",
              " 'label': 'AOI.csv',\n",
              " 'restricted': False,\n",
              " 'version': 1}"
            ]
          },
          "metadata": {
            "tags": []
          },
          "execution_count": 4
        }
      ]
    },
    {
      "cell_type": "markdown",
      "metadata": {
        "id": "bqlBAYO1dy7Y",
        "colab_type": "text"
      },
      "source": [
        "Now get all files metadata imported to dataframe"
      ]
    },
    {
      "cell_type": "code",
      "metadata": {
        "id": "1J3te94nZL2n",
        "colab_type": "code",
        "colab": {
          "base_uri": "https://localhost:8080/",
          "height": 80
        },
        "outputId": "3e1a8a36-c77c-45e7-ed0d-7c47902200ec"
      },
      "source": [
        "df = pd.DataFrame(files['data'])\n",
        "df "
      ],
      "execution_count": null,
      "outputs": [
        {
          "output_type": "execute_result",
          "data": {
            "text/html": [
              "<div>\n",
              "<style scoped>\n",
              "    .dataframe tbody tr th:only-of-type {\n",
              "        vertical-align: middle;\n",
              "    }\n",
              "\n",
              "    .dataframe tbody tr th {\n",
              "        vertical-align: top;\n",
              "    }\n",
              "\n",
              "    .dataframe thead th {\n",
              "        text-align: right;\n",
              "    }\n",
              "</style>\n",
              "<table border=\"1\" class=\"dataframe\">\n",
              "  <thead>\n",
              "    <tr style=\"text-align: right;\">\n",
              "      <th></th>\n",
              "      <th>label</th>\n",
              "      <th>restricted</th>\n",
              "      <th>version</th>\n",
              "      <th>datasetVersionId</th>\n",
              "      <th>dataFile</th>\n",
              "    </tr>\n",
              "  </thead>\n",
              "  <tbody>\n",
              "    <tr>\n",
              "      <th>0</th>\n",
              "      <td>AOI.csv</td>\n",
              "      <td>False</td>\n",
              "      <td>1</td>\n",
              "      <td>19</td>\n",
              "      <td>{'id': 84, 'persistentId': '', 'pidURL': '', '...</td>\n",
              "    </tr>\n",
              "  </tbody>\n",
              "</table>\n",
              "</div>"
            ],
            "text/plain": [
              "     label  ...                                           dataFile\n",
              "0  AOI.csv  ...  {'id': 84, 'persistentId': '', 'pidURL': '', '...\n",
              "\n",
              "[1 rows x 5 columns]"
            ]
          },
          "metadata": {
            "tags": []
          },
          "execution_count": 5
        }
      ]
    },
    {
      "cell_type": "code",
      "metadata": {
        "id": "TCj5aB_oZOE6",
        "colab_type": "code",
        "colab": {
          "base_uri": "https://localhost:8080/",
          "height": 390
        },
        "outputId": "f0d70036-9b87-4204-aac3-c5b7a1687e43"
      },
      "source": [
        "filesindex = {}\n",
        "for i in df.index:\n",
        "    filesindex[df.iloc[i].label] = df.iloc[i].dataFile \n",
        "\n",
        "pdfiles = pd.DataFrame(filesindex)\n",
        "pdfiles"
      ],
      "execution_count": null,
      "outputs": [
        {
          "output_type": "execute_result",
          "data": {
            "text/html": [
              "<div>\n",
              "<style scoped>\n",
              "    .dataframe tbody tr th:only-of-type {\n",
              "        vertical-align: middle;\n",
              "    }\n",
              "\n",
              "    .dataframe tbody tr th {\n",
              "        vertical-align: top;\n",
              "    }\n",
              "\n",
              "    .dataframe thead th {\n",
              "        text-align: right;\n",
              "    }\n",
              "</style>\n",
              "<table border=\"1\" class=\"dataframe\">\n",
              "  <thead>\n",
              "    <tr style=\"text-align: right;\">\n",
              "      <th></th>\n",
              "      <th>AOI.csv</th>\n",
              "    </tr>\n",
              "  </thead>\n",
              "  <tbody>\n",
              "    <tr>\n",
              "      <th>checksum</th>\n",
              "      <td>{'type': 'MD5', 'value': 'fea7abf242a349a06f28...</td>\n",
              "    </tr>\n",
              "    <tr>\n",
              "      <th>contentType</th>\n",
              "      <td>text/csv</td>\n",
              "    </tr>\n",
              "    <tr>\n",
              "      <th>creationDate</th>\n",
              "      <td>2020-06-08</td>\n",
              "    </tr>\n",
              "    <tr>\n",
              "      <th>filename</th>\n",
              "      <td>AOI.csv</td>\n",
              "    </tr>\n",
              "    <tr>\n",
              "      <th>filesize</th>\n",
              "      <td>546</td>\n",
              "    </tr>\n",
              "    <tr>\n",
              "      <th>id</th>\n",
              "      <td>84</td>\n",
              "    </tr>\n",
              "    <tr>\n",
              "      <th>md5</th>\n",
              "      <td>fea7abf242a349a06f289da9ddf0dc01</td>\n",
              "    </tr>\n",
              "    <tr>\n",
              "      <th>persistentId</th>\n",
              "      <td></td>\n",
              "    </tr>\n",
              "    <tr>\n",
              "      <th>pidURL</th>\n",
              "      <td></td>\n",
              "    </tr>\n",
              "    <tr>\n",
              "      <th>rootDataFileId</th>\n",
              "      <td>-1</td>\n",
              "    </tr>\n",
              "    <tr>\n",
              "      <th>storageIdentifier</th>\n",
              "      <td>file://1729346df12-019746c27316</td>\n",
              "    </tr>\n",
              "  </tbody>\n",
              "</table>\n",
              "</div>"
            ],
            "text/plain": [
              "                                                             AOI.csv\n",
              "checksum           {'type': 'MD5', 'value': 'fea7abf242a349a06f28...\n",
              "contentType                                                 text/csv\n",
              "creationDate                                              2020-06-08\n",
              "filename                                                     AOI.csv\n",
              "filesize                                                         546\n",
              "id                                                                84\n",
              "md5                                 fea7abf242a349a06f289da9ddf0dc01\n",
              "persistentId                                                        \n",
              "pidURL                                                              \n",
              "rootDataFileId                                                    -1\n",
              "storageIdentifier                    file://1729346df12-019746c27316"
            ]
          },
          "metadata": {
            "tags": []
          },
          "execution_count": 6
        }
      ]
    },
    {
      "cell_type": "markdown",
      "metadata": {
        "id": "MPYtkV-benHF",
        "colab_type": "text"
      },
      "source": [
        "Now read the content of first file to dataframe"
      ]
    },
    {
      "cell_type": "code",
      "metadata": {
        "id": "GDy2A1iOeqTB",
        "colab_type": "code",
        "colab": {
          "base_uri": "https://localhost:8080/",
          "height": 204
        },
        "outputId": "4715a1fa-00ee-4b31-b728-45818062c2b4"
      },
      "source": [
        "FILEID=pdfiles.loc['id'][0]\n",
        "fileURL = \"%s/api/access/datafile/%s\" % (BASE_URL, FILEID)\n",
        "df = pd.read_csv(fileURL) \n",
        "df.head()"
      ],
      "execution_count": null,
      "outputs": [
        {
          "output_type": "execute_result",
          "data": {
            "text/html": [
              "<div>\n",
              "<style scoped>\n",
              "    .dataframe tbody tr th:only-of-type {\n",
              "        vertical-align: middle;\n",
              "    }\n",
              "\n",
              "    .dataframe tbody tr th {\n",
              "        vertical-align: top;\n",
              "    }\n",
              "\n",
              "    .dataframe thead th {\n",
              "        text-align: right;\n",
              "    }\n",
              "</style>\n",
              "<table border=\"1\" class=\"dataframe\">\n",
              "  <thead>\n",
              "    <tr style=\"text-align: right;\">\n",
              "      <th></th>\n",
              "      <th>Country</th>\n",
              "      <th>x1</th>\n",
              "      <th>y1</th>\n",
              "      <th>x2</th>\n",
              "      <th>y2</th>\n",
              "    </tr>\n",
              "  </thead>\n",
              "  <tbody>\n",
              "    <tr>\n",
              "      <th>0</th>\n",
              "      <td>Austria</td>\n",
              "      <td>48.622</td>\n",
              "      <td>11.821</td>\n",
              "      <td>46.561</td>\n",
              "      <td>16.963</td>\n",
              "    </tr>\n",
              "    <tr>\n",
              "      <th>1</th>\n",
              "      <td>Belgium</td>\n",
              "      <td>51.544</td>\n",
              "      <td>2.661</td>\n",
              "      <td>49.831</td>\n",
              "      <td>6.550</td>\n",
              "    </tr>\n",
              "    <tr>\n",
              "      <th>2</th>\n",
              "      <td>Bulgaria</td>\n",
              "      <td>44.099</td>\n",
              "      <td>22.421</td>\n",
              "      <td>41.503</td>\n",
              "      <td>28.332</td>\n",
              "    </tr>\n",
              "    <tr>\n",
              "      <th>3</th>\n",
              "      <td>Crotia</td>\n",
              "      <td>46.619</td>\n",
              "      <td>13.250</td>\n",
              "      <td>42.647</td>\n",
              "      <td>18.600</td>\n",
              "    </tr>\n",
              "    <tr>\n",
              "      <th>4</th>\n",
              "      <td>Czech</td>\n",
              "      <td>51.096</td>\n",
              "      <td>12.338</td>\n",
              "      <td>48.573</td>\n",
              "      <td>18.622</td>\n",
              "    </tr>\n",
              "  </tbody>\n",
              "</table>\n",
              "</div>"
            ],
            "text/plain": [
              "    Country      x1      y1      x2      y2\n",
              "0   Austria  48.622  11.821  46.561  16.963\n",
              "1   Belgium  51.544   2.661  49.831   6.550\n",
              "2  Bulgaria  44.099  22.421  41.503  28.332\n",
              "3    Crotia  46.619  13.250  42.647  18.600\n",
              "4     Czech  51.096  12.338  48.573  18.622"
            ]
          },
          "metadata": {
            "tags": []
          },
          "execution_count": 7
        }
      ]
    }
  ]
}