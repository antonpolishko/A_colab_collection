{
  "nbformat": 4,
  "nbformat_minor": 0,
  "metadata": {
    "colab": {
      "name": "Dataverse content, data and metadata import to Pandas Dataframes",
      "provenance": [],
      "collapsed_sections": [],
      "include_colab_link": true
    },
    "kernelspec": {
      "name": "python3",
      "display_name": "Python 3"
    }
  },
  "cells": [
    {
      "cell_type": "markdown",
      "metadata": {
        "id": "view-in-github",
        "colab_type": "text"
      },
      "source": [
        "<a href=\"https://colab.research.google.com/github/antonpolishko/A_colab_collection/blob/master/Dataverse_content%2C_data_and_metadata_import_to_Pandas_Dataframes.ipynb\" target=\"_parent\"><img src=\"https://colab.research.google.com/assets/colab-badge.svg\" alt=\"Open In Colab\"/></a>"
      ]
    },
    {
      "cell_type": "code",
      "metadata": {
        "id": "8iz7WtxVVQAo",
        "outputId": "4fff76f3-7ee8-4ffc-c2d1-4738e34f8f7a",
        "colab": {
          "base_uri": "https://localhost:8080/",
          "height": 578
        }
      },
      "source": [
        "!pip install git+https://github.com/AUSSDA/pyDataverse.git@develop\n",
        "!pip install pygithub\n",
        "from github import Github\n",
        "from pyDataverse.api import Api, NativeApi\n",
        "import pandas as pd"
      ],
      "execution_count": null,
      "outputs": [
        {
          "output_type": "stream",
          "text": [
            "Collecting git+https://github.com/AUSSDA/pyDataverse.git@develop\n",
            "  Cloning https://github.com/AUSSDA/pyDataverse.git (to revision develop) to /tmp/pip-req-build-x3r2uzxr\n",
            "  Running command git clone -q https://github.com/AUSSDA/pyDataverse.git /tmp/pip-req-build-x3r2uzxr\n",
            "  Running command git checkout -b develop --track origin/develop\n",
            "  Switched to a new branch 'develop'\n",
            "  Branch 'develop' set up to track remote branch 'develop' from 'origin'.\n",
            "Requirement already satisfied (use --upgrade to upgrade): pyDataverse==0.2.1 from git+https://github.com/AUSSDA/pyDataverse.git@develop in /usr/local/lib/python3.6/dist-packages\n",
            "Requirement already satisfied: requests>=2.12.0 in /usr/local/lib/python3.6/dist-packages (from pyDataverse==0.2.1) (2.23.0)\n",
            "Requirement already satisfied: jsonschema>=3.2.0 in /usr/local/lib/python3.6/dist-packages (from pyDataverse==0.2.1) (3.2.0)\n",
            "Requirement already satisfied: urllib3!=1.25.0,!=1.25.1,<1.26,>=1.21.1 in /usr/local/lib/python3.6/dist-packages (from requests>=2.12.0->pyDataverse==0.2.1) (1.24.3)\n",
            "Requirement already satisfied: certifi>=2017.4.17 in /usr/local/lib/python3.6/dist-packages (from requests>=2.12.0->pyDataverse==0.2.1) (2020.6.20)\n",
            "Requirement already satisfied: idna<3,>=2.5 in /usr/local/lib/python3.6/dist-packages (from requests>=2.12.0->pyDataverse==0.2.1) (2.10)\n",
            "Requirement already satisfied: chardet<4,>=3.0.2 in /usr/local/lib/python3.6/dist-packages (from requests>=2.12.0->pyDataverse==0.2.1) (3.0.4)\n",
            "Requirement already satisfied: setuptools in /usr/local/lib/python3.6/dist-packages (from jsonschema>=3.2.0->pyDataverse==0.2.1) (49.6.0)\n",
            "Requirement already satisfied: attrs>=17.4.0 in /usr/local/lib/python3.6/dist-packages (from jsonschema>=3.2.0->pyDataverse==0.2.1) (20.1.0)\n",
            "Requirement already satisfied: pyrsistent>=0.14.0 in /usr/local/lib/python3.6/dist-packages (from jsonschema>=3.2.0->pyDataverse==0.2.1) (0.16.0)\n",
            "Requirement already satisfied: importlib-metadata; python_version < \"3.8\" in /usr/local/lib/python3.6/dist-packages (from jsonschema>=3.2.0->pyDataverse==0.2.1) (1.7.0)\n",
            "Requirement already satisfied: six>=1.11.0 in /usr/local/lib/python3.6/dist-packages (from jsonschema>=3.2.0->pyDataverse==0.2.1) (1.15.0)\n",
            "Requirement already satisfied: zipp>=0.5 in /usr/local/lib/python3.6/dist-packages (from importlib-metadata; python_version < \"3.8\"->jsonschema>=3.2.0->pyDataverse==0.2.1) (3.1.0)\n",
            "Building wheels for collected packages: pyDataverse\n",
            "  Building wheel for pyDataverse (setup.py) ... \u001b[?25l\u001b[?25hdone\n",
            "  Created wheel for pyDataverse: filename=pyDataverse-0.2.1-cp36-none-any.whl size=39277 sha256=787eb4885fd06f48788a7466582a7a2244e9bc21211a4eae2a6e68bf2af49b28\n",
            "  Stored in directory: /tmp/pip-ephem-wheel-cache-hvjzpjiz/wheels/8b/df/29/d6d3c32501ee8c3804e7c51f184c0a6a4bc62aef390fc64b7e\n",
            "Successfully built pyDataverse\n",
            "Requirement already satisfied: pygithub in /usr/local/lib/python3.6/dist-packages (1.53)\n",
            "Requirement already satisfied: deprecated in /usr/local/lib/python3.6/dist-packages (from pygithub) (1.2.10)\n",
            "Requirement already satisfied: requests>=2.14.0 in /usr/local/lib/python3.6/dist-packages (from pygithub) (2.23.0)\n",
            "Requirement already satisfied: pyjwt in /usr/local/lib/python3.6/dist-packages (from pygithub) (1.7.1)\n",
            "Requirement already satisfied: wrapt<2,>=1.10 in /usr/local/lib/python3.6/dist-packages (from deprecated->pygithub) (1.12.1)\n",
            "Requirement already satisfied: chardet<4,>=3.0.2 in /usr/local/lib/python3.6/dist-packages (from requests>=2.14.0->pygithub) (3.0.4)\n",
            "Requirement already satisfied: idna<3,>=2.5 in /usr/local/lib/python3.6/dist-packages (from requests>=2.14.0->pygithub) (2.10)\n",
            "Requirement already satisfied: certifi>=2017.4.17 in /usr/local/lib/python3.6/dist-packages (from requests>=2.14.0->pygithub) (2020.6.20)\n",
            "Requirement already satisfied: urllib3!=1.25.0,!=1.25.1,<1.26,>=1.21.1 in /usr/local/lib/python3.6/dist-packages (from requests>=2.14.0->pygithub) (1.24.3)\n"
          ],
          "name": "stdout"
        }
      ]
    },
    {
      "cell_type": "code",
      "metadata": {
        "id": "o1565de5Y2T5"
      },
      "source": [
        "DV_ALIAS = 'demo' # name of your dataverse\n",
        "BASE_URL = 'http://dataverse-dev.cv.coronawhy.org' # URL where the dataverses are hosted *without trailing slash*\n",
        "API_TOKEN= 'd4a6f6c5-473f-4eee-9a65-fbb055d7d45e' # API token that can be created in your user menu\n",
        "PARSABLE_EXTENSIONS_PY = ['py', 'ipynb'] # Leave the array empty if you want to parse all files\n",
        "PARSABLE_EXTENSIONS = ['csv', 'json', 'gz', 'fasta', 'xlsx', 'jsonld', 'owl', 'ttl', 'rds', 'txt', 'cvs']\n",
        "gitroot = 'https://github.com'"
      ],
      "execution_count": null,
      "outputs": []
    },
    {
      "cell_type": "code",
      "metadata": {
        "id": "o82VIt8CZERI"
      },
      "source": [
        "api = NativeApi(BASE_URL, API_TOKEN)\n",
        "PID = 'doi:10.5072/FK2/NRFEMZ' # Choose any DOI published on this Dataverse \n",
        "files = api.get_datafiles(PID, ':latest').json()"
      ],
      "execution_count": null,
      "outputs": []
    },
    {
      "cell_type": "markdown",
      "metadata": {
        "id": "ZuRtdiyadpZr"
      },
      "source": [
        "Check the metadata of the first file in this dataset"
      ]
    },
    {
      "cell_type": "code",
      "metadata": {
        "id": "t0z-cXKWdtUX",
        "outputId": "a0122d82-aab3-497f-e607-87bfb53158e9",
        "colab": {
          "base_uri": "https://localhost:8080/",
          "height": 289
        }
      },
      "source": [
        "files['data'][0]"
      ],
      "execution_count": null,
      "outputs": [
        {
          "output_type": "execute_result",
          "data": {
            "text/plain": [
              "{'dataFile': {'checksum': {'type': 'MD5',\n",
              "   'value': '8bfdcf4ed86c5af265adf9ac856ea751'},\n",
              "  'contentType': 'text/csv',\n",
              "  'creationDate': '2020-09-01',\n",
              "  'filename': 'age.csv',\n",
              "  'filesize': 391341,\n",
              "  'id': 4,\n",
              "  'md5': '8bfdcf4ed86c5af265adf9ac856ea751',\n",
              "  'persistentId': '',\n",
              "  'pidURL': '',\n",
              "  'rootDataFileId': -1,\n",
              "  'storageIdentifier': 'local://17449717e73-193574b96638'},\n",
              " 'datasetVersionId': 2,\n",
              " 'label': 'age.csv',\n",
              " 'restricted': False,\n",
              " 'version': 1}"
            ]
          },
          "metadata": {
            "tags": []
          },
          "execution_count": 21
        }
      ]
    },
    {
      "cell_type": "markdown",
      "metadata": {
        "id": "bqlBAYO1dy7Y"
      },
      "source": [
        "Now get all files metadata imported to dataframe"
      ]
    },
    {
      "cell_type": "code",
      "metadata": {
        "id": "1J3te94nZL2n",
        "outputId": "20b17f67-e7ff-4fa3-9089-0915c346a4e2",
        "colab": {
          "base_uri": "https://localhost:8080/",
          "height": 80
        }
      },
      "source": [
        "df = pd.DataFrame(files['data'])\n",
        "df "
      ],
      "execution_count": null,
      "outputs": [
        {
          "output_type": "execute_result",
          "data": {
            "text/html": [
              "<div>\n",
              "<style scoped>\n",
              "    .dataframe tbody tr th:only-of-type {\n",
              "        vertical-align: middle;\n",
              "    }\n",
              "\n",
              "    .dataframe tbody tr th {\n",
              "        vertical-align: top;\n",
              "    }\n",
              "\n",
              "    .dataframe thead th {\n",
              "        text-align: right;\n",
              "    }\n",
              "</style>\n",
              "<table border=\"1\" class=\"dataframe\">\n",
              "  <thead>\n",
              "    <tr style=\"text-align: right;\">\n",
              "      <th></th>\n",
              "      <th>label</th>\n",
              "      <th>restricted</th>\n",
              "      <th>version</th>\n",
              "      <th>datasetVersionId</th>\n",
              "      <th>dataFile</th>\n",
              "    </tr>\n",
              "  </thead>\n",
              "  <tbody>\n",
              "    <tr>\n",
              "      <th>0</th>\n",
              "      <td>age.csv</td>\n",
              "      <td>False</td>\n",
              "      <td>1</td>\n",
              "      <td>2</td>\n",
              "      <td>{'id': 4, 'persistentId': '', 'pidURL': '', 'f...</td>\n",
              "    </tr>\n",
              "  </tbody>\n",
              "</table>\n",
              "</div>"
            ],
            "text/plain": [
              "     label  ...                                           dataFile\n",
              "0  age.csv  ...  {'id': 4, 'persistentId': '', 'pidURL': '', 'f...\n",
              "\n",
              "[1 rows x 5 columns]"
            ]
          },
          "metadata": {
            "tags": []
          },
          "execution_count": 22
        }
      ]
    },
    {
      "cell_type": "code",
      "metadata": {
        "id": "TCj5aB_oZOE6",
        "outputId": "233f3a19-713f-45be-fb07-694ca95e771f",
        "colab": {
          "base_uri": "https://localhost:8080/",
          "height": 390
        }
      },
      "source": [
        "filesindex = {}\n",
        "for i in df.index:\n",
        "    filesindex[df.iloc[i].label] = df.iloc[i].dataFile \n",
        "\n",
        "pdfiles = pd.DataFrame(filesindex)\n",
        "pdfiles"
      ],
      "execution_count": null,
      "outputs": [
        {
          "output_type": "execute_result",
          "data": {
            "text/html": [
              "<div>\n",
              "<style scoped>\n",
              "    .dataframe tbody tr th:only-of-type {\n",
              "        vertical-align: middle;\n",
              "    }\n",
              "\n",
              "    .dataframe tbody tr th {\n",
              "        vertical-align: top;\n",
              "    }\n",
              "\n",
              "    .dataframe thead th {\n",
              "        text-align: right;\n",
              "    }\n",
              "</style>\n",
              "<table border=\"1\" class=\"dataframe\">\n",
              "  <thead>\n",
              "    <tr style=\"text-align: right;\">\n",
              "      <th></th>\n",
              "      <th>age.csv</th>\n",
              "    </tr>\n",
              "  </thead>\n",
              "  <tbody>\n",
              "    <tr>\n",
              "      <th>checksum</th>\n",
              "      <td>{'type': 'MD5', 'value': '8bfdcf4ed86c5af265ad...</td>\n",
              "    </tr>\n",
              "    <tr>\n",
              "      <th>contentType</th>\n",
              "      <td>text/csv</td>\n",
              "    </tr>\n",
              "    <tr>\n",
              "      <th>creationDate</th>\n",
              "      <td>2020-09-01</td>\n",
              "    </tr>\n",
              "    <tr>\n",
              "      <th>filename</th>\n",
              "      <td>age.csv</td>\n",
              "    </tr>\n",
              "    <tr>\n",
              "      <th>filesize</th>\n",
              "      <td>391341</td>\n",
              "    </tr>\n",
              "    <tr>\n",
              "      <th>id</th>\n",
              "      <td>4</td>\n",
              "    </tr>\n",
              "    <tr>\n",
              "      <th>md5</th>\n",
              "      <td>8bfdcf4ed86c5af265adf9ac856ea751</td>\n",
              "    </tr>\n",
              "    <tr>\n",
              "      <th>persistentId</th>\n",
              "      <td></td>\n",
              "    </tr>\n",
              "    <tr>\n",
              "      <th>pidURL</th>\n",
              "      <td></td>\n",
              "    </tr>\n",
              "    <tr>\n",
              "      <th>rootDataFileId</th>\n",
              "      <td>-1</td>\n",
              "    </tr>\n",
              "    <tr>\n",
              "      <th>storageIdentifier</th>\n",
              "      <td>local://17449717e73-193574b96638</td>\n",
              "    </tr>\n",
              "  </tbody>\n",
              "</table>\n",
              "</div>"
            ],
            "text/plain": [
              "                                                             age.csv\n",
              "checksum           {'type': 'MD5', 'value': '8bfdcf4ed86c5af265ad...\n",
              "contentType                                                 text/csv\n",
              "creationDate                                              2020-09-01\n",
              "filename                                                     age.csv\n",
              "filesize                                                      391341\n",
              "id                                                                 4\n",
              "md5                                 8bfdcf4ed86c5af265adf9ac856ea751\n",
              "persistentId                                                        \n",
              "pidURL                                                              \n",
              "rootDataFileId                                                    -1\n",
              "storageIdentifier                   local://17449717e73-193574b96638"
            ]
          },
          "metadata": {
            "tags": []
          },
          "execution_count": 23
        }
      ]
    },
    {
      "cell_type": "markdown",
      "metadata": {
        "id": "MPYtkV-benHF"
      },
      "source": [
        "Now read the content of first file to dataframe"
      ]
    },
    {
      "cell_type": "code",
      "metadata": {
        "id": "GDy2A1iOeqTB",
        "outputId": "af85a44a-8d05-4d6f-efbc-5aece0c5add1",
        "colab": {
          "base_uri": "https://localhost:8080/",
          "height": 666
        }
      },
      "source": [
        "FILEID=pdfiles.loc['id'][0]\n",
        "fileURL = \"%s/api/access/datafile/%s\" % (BASE_URL, FILEID)\n",
        "df = pd.read_csv(fileURL) \n",
        "df.head()"
      ],
      "execution_count": null,
      "outputs": [
        {
          "output_type": "execute_result",
          "data": {
            "text/html": [
              "<div>\n",
              "<style scoped>\n",
              "    .dataframe tbody tr th:only-of-type {\n",
              "        vertical-align: middle;\n",
              "    }\n",
              "\n",
              "    .dataframe tbody tr th {\n",
              "        vertical-align: top;\n",
              "    }\n",
              "\n",
              "    .dataframe thead th {\n",
              "        text-align: right;\n",
              "    }\n",
              "</style>\n",
              "<table border=\"1\" class=\"dataframe\">\n",
              "  <thead>\n",
              "    <tr style=\"text-align: right;\">\n",
              "      <th></th>\n",
              "      <th>Unnamed: 0</th>\n",
              "      <th>Risk Factor</th>\n",
              "      <th>Title</th>\n",
              "      <th>Keyword/Ngram</th>\n",
              "      <th>No of keyword occurence in Paper</th>\n",
              "      <th>paper_id</th>\n",
              "      <th>URL</th>\n",
              "      <th>Sentences</th>\n",
              "      <th>Authors</th>\n",
              "      <th>Correlation</th>\n",
              "      <th>Design Methodology</th>\n",
              "      <th>Sample Size</th>\n",
              "      <th>Coronavirus</th>\n",
              "      <th>Fatality</th>\n",
              "      <th>TAXON</th>\n",
              "    </tr>\n",
              "  </thead>\n",
              "  <tbody>\n",
              "    <tr>\n",
              "      <th>0</th>\n",
              "      <td>0</td>\n",
              "      <td>age</td>\n",
              "      <td>Coronavirus-like particles in nonhuman primate...</td>\n",
              "      <td>['older age group']</td>\n",
              "      <td>1</td>\n",
              "      <td>3cf9a172522a7db0df9e436029707bb6e3e0ff8c</td>\n",
              "      <td>['https://www.ncbi.nlm.nih.gov/pmc/articles/PM...</td>\n",
              "      <td>['It might be assumed that coronaviruses are n...</td>\n",
              "      <td>['Smith, G. C.; Lester, T. L.; Heberling, R. L...</td>\n",
              "      <td>It might be assumed that coronaviruses are not...</td>\n",
              "      <td>NaN</td>\n",
              "      <td>NaN</td>\n",
              "      <td>It might be assumed that coronaviruses are not...</td>\n",
              "      <td>NaN</td>\n",
              "      <td>[]</td>\n",
              "    </tr>\n",
              "    <tr>\n",
              "      <th>1</th>\n",
              "      <td>1</td>\n",
              "      <td>age</td>\n",
              "      <td>Estimates of the severity of coronavirus disea...</td>\n",
              "      <td>['60 years and over', 'older age group']</td>\n",
              "      <td>7</td>\n",
              "      <td>ac2a1ba62fdf52eb276bf42b22ed3d927b5330b1</td>\n",
              "      <td>['https://doi.org/10.1016/s1473-3099(20)30243-...</td>\n",
              "      <td>['Reported cases in Wuhan were more frequent i...</td>\n",
              "      <td>['Verity, Robert; Okell, Lucy C; Dorigatti, Il...</td>\n",
              "      <td>Reported cases in Wuhan were more frequent in ...</td>\n",
              "      <td>In cases reported outside of mainland China , ...</td>\n",
              "      <td>With the small number of observations in these...</td>\n",
              "      <td>In the subset of 24 deaths from COVID-19 that ...</td>\n",
              "      <td>Accounting for this under-ascertainment ,  we ...</td>\n",
              "      <td>[]</td>\n",
              "    </tr>\n",
              "    <tr>\n",
              "      <th>2</th>\n",
              "      <td>2</td>\n",
              "      <td>age</td>\n",
              "      <td>Infections in travellers returning to Turkey f...</td>\n",
              "      <td>['65 years old']</td>\n",
              "      <td>3</td>\n",
              "      <td>f33e3be8c6ec1d348cf8983037dcf8adb25e7f94</td>\n",
              "      <td>['https://www.ncbi.nlm.nih.gov/pmc/articles/PM...</td>\n",
              "      <td>['Seventy four (40 %) of them were ≥ 65 years ...</td>\n",
              "      <td>['Erdem, H.; Ak, O.; Elaldi, N.; Demirdal, T.;...</td>\n",
              "      <td>A total of 185 Turkish patients were recruited...</td>\n",
              "      <td>NaN</td>\n",
              "      <td>NaN</td>\n",
              "      <td>ICU support and outcomes Six (3.2 %) patients ...</td>\n",
              "      <td>At the end of the study period ,  there were t...</td>\n",
              "      <td>[]</td>\n",
              "    </tr>\n",
              "    <tr>\n",
              "      <th>3</th>\n",
              "      <td>3</td>\n",
              "      <td>age</td>\n",
              "      <td>The use of corticosteroid as treatment in SARS...</td>\n",
              "      <td>['patients older than']</td>\n",
              "      <td>1</td>\n",
              "      <td>52f5440ec7a22706f95be3c6f5e0ed2e940e4945</td>\n",
              "      <td>['https://doi.org/10.1016/j.jinf.2004.09.008',...</td>\n",
              "      <td>['A total of 80 patients older than 18 years o...</td>\n",
              "      <td>['Auyeung, Tung Wai; Lee, Jenny S.W.; Lai, Win...</td>\n",
              "      <td>NaN</td>\n",
              "      <td>NaN</td>\n",
              "      <td>NaN</td>\n",
              "      <td>A total of 80 patients older than 18 years old...</td>\n",
              "      <td>NaN</td>\n",
              "      <td>[]</td>\n",
              "    </tr>\n",
              "    <tr>\n",
              "      <th>4</th>\n",
              "      <td>4</td>\n",
              "      <td>age</td>\n",
              "      <td>Burden, seasonal pattern and symptomatology of...</td>\n",
              "      <td>['older age group']</td>\n",
              "      <td>5</td>\n",
              "      <td>0957f96f8188f65cc145464dc7882abd259e0f5f</td>\n",
              "      <td>['https://doi.org/10.1016/j.cmi.2015.05.027', ...</td>\n",
              "      <td>['On comparison of the two age groups ,  viral...</td>\n",
              "      <td>['Wei, L.; Chan, K.-H.; Ip, D.K.M.; Fang, V.J....</td>\n",
              "      <td>On comparison of the two age groups ,  viral a...</td>\n",
              "      <td>NaN</td>\n",
              "      <td>NaN</td>\n",
              "      <td>NaN</td>\n",
              "      <td>NaN</td>\n",
              "      <td>['viral']</td>\n",
              "    </tr>\n",
              "  </tbody>\n",
              "</table>\n",
              "</div>"
            ],
            "text/plain": [
              "   Unnamed: 0  ...      TAXON\n",
              "0           0  ...         []\n",
              "1           1  ...         []\n",
              "2           2  ...         []\n",
              "3           3  ...         []\n",
              "4           4  ...  ['viral']\n",
              "\n",
              "[5 rows x 15 columns]"
            ]
          },
          "metadata": {
            "tags": []
          },
          "execution_count": 24
        }
      ]
    }
  ]
}